{
 "cells": [
  {
   "cell_type": "markdown",
   "metadata": {
    "slideshow": {
     "slide_type": "slide"
    }
   },
   "source": [
    "# R和Python的相遇\n",
    "- **肖凯** \n",
    "![alt text](intro.jpg)"
   ]
  },
  {
   "cell_type": "markdown",
   "metadata": {
    "slideshow": {
     "slide_type": "slide"
    }
   },
   "source": [
    "## 阵营之争\n"
   ]
  },
  {
   "cell_type": "markdown",
   "metadata": {
    "slideshow": {
     "slide_type": "fragment"
    }
   },
   "source": [
    "- Windows vs Linux"
   ]
  },
  {
   "cell_type": "markdown",
   "metadata": {
    "slideshow": {
     "slide_type": "fragment"
    }
   },
   "source": [
    "- iPhone vs Andriod"
   ]
  },
  {
   "cell_type": "markdown",
   "metadata": {
    "slideshow": {
     "slide_type": "fragment"
    }
   },
   "source": [
    "- 甜豆花 vs 咸豆花"
   ]
  },
  {
   "cell_type": "markdown",
   "metadata": {
    "slideshow": {
     "slide_type": "fragment"
    }
   },
   "source": [
    "- R vs Python"
   ]
  },
  {
   "cell_type": "markdown",
   "metadata": {
    "slideshow": {
     "slide_type": "subslide"
    }
   },
   "source": [
    "## 大纲\n",
    "- 二种工具的介绍\n",
    "- 组合R和Python的方式（rpy2）\n",
    "- 在ipython notebook里使用R\n",
    "- 一个简单例子"
   ]
  },
  {
   "cell_type": "markdown",
   "metadata": {
    "slideshow": {
     "slide_type": "slide"
    }
   },
   "source": [
    "## 两种工具的介绍：共同点\n",
    "- 均为开源免费\n",
    "- 均可在三种操作系统中运行\n",
    "- 均有大量的用户群和社区支持\n",
    "- 均有大量的扩展包和教程资源\n",
    "- 最近的一项调查显示它们是业界人士最为喜爱的两种工具"
   ]
  },
  {
   "cell_type": "markdown",
   "metadata": {
    "slideshow": {
     "slide_type": "subslide"
    }
   },
   "source": [
    "![alt text](kdpoll.png)"
   ]
  },
  {
   "cell_type": "markdown",
   "metadata": {
    "slideshow": {
     "slide_type": "subslide"
    }
   },
   "source": [
    "![alt text](language.jpg)"
   ]
  },
  {
   "cell_type": "markdown",
   "metadata": {
    "slideshow": {
     "slide_type": "subslide"
    }
   },
   "source": [
    "## Python的数据分析能力\n",
    "\n",
    "- [NumPy/Scipy](http://www.numpy.org/)  \n",
    "- [pandas](http://pandas.pydata.org/)  \n",
    "- [statsmodels](https://pypi.python.org/pypi/statsmodels)\n",
    "- [scikit-learn](http://scikit-learn.org/stable)\n",
    "- [PyMC](https://github.com/pymc-devs/pymc)  "
   ]
  },
  {
   "cell_type": "markdown",
   "metadata": {
    "slideshow": {
     "slide_type": "subslide"
    }
   },
   "source": [
    "## 两种工具的介绍：差异点\n",
    "\n",
    "- Python是一种通用编程工具\n",
    "- R有更为丰富的统计分析函数\n",
    "- R有更好的可视化包\n",
    "- R的核心语法较为简洁，但R包的语法兼收并蓄，错综复杂\n",
    "\n",
    "Python:\n",
    "```\n",
    "results = sm.OLS(y, X).fit()\n",
    "```\n",
    "\n",
    "R:\n",
    "```\n",
    "results <- lm(y ~ x1 + x2 + x3, data=A)\n",
    "```\n"
   ]
  },
  {
   "cell_type": "markdown",
   "metadata": {
    "slideshow": {
     "slide_type": "subslide"
    }
   },
   "source": [
    "## 运用场景\n",
    "\n",
    "- 算法研究R，生产实践python\n",
    "- 根据现有资源进行选择\n",
    "- 各自做擅长的事情，将他们组合\n",
    "![alt text](zuhe.jpg)"
   ]
  },
  {
   "cell_type": "markdown",
   "metadata": {
    "slideshow": {
     "slide_type": "slide"
    }
   },
   "source": [
    "## 组合R和Python的方式\n",
    "\n",
    "- rpy2 提供了用Python调用R的包\n",
    "- rPython 提供了用R来调用Python的包"
   ]
  },
  {
   "cell_type": "markdown",
   "metadata": {
    "slideshow": {
     "slide_type": "subslide"
    }
   },
   "source": [
    "## rpy2使用例子\n",
    "\n",
    "- 使用rpy2.robjects包的r对象\n",
    "- r对象可以看作是python内部的一个R控制台"
   ]
  },
  {
   "cell_type": "code",
   "execution_count": 126,
   "metadata": {
    "slideshow": {
     "slide_type": "subslide"
    }
   },
   "outputs": [
    {
     "data": {
      "text/plain": [
       "3.141592653589793"
      ]
     },
     "execution_count": 126,
     "metadata": {},
     "output_type": "execute_result"
    }
   ],
   "source": [
    "import rpy2.robjects as robjects\n",
    "pi = robjects.r('pi')\n",
    "pi[0]"
   ]
  },
  {
   "cell_type": "markdown",
   "metadata": {
    "slideshow": {
     "slide_type": "subslide"
    }
   },
   "source": [
    "**用R做线性回归**"
   ]
  },
  {
   "cell_type": "code",
   "execution_count": 127,
   "metadata": {},
   "outputs": [],
   "source": [
    "rscript = '''\n",
    "df = read.csv('iris.csv')\n",
    "m = lm(Sepal_Length~Sepal_Width, data = df)\n",
    "'''\n",
    "pymodel = robjects.r(rscript)"
   ]
  },
  {
   "cell_type": "code",
   "execution_count": 128,
   "metadata": {
    "slideshow": {
     "slide_type": "fragment"
    }
   },
   "outputs": [
    {
     "name": "stdout",
     "output_type": "stream",
     "text": [
      " [1] \"coefficients\"  \"residuals\"     \"effects\"       \"rank\"         \n",
      " [5] \"fitted.values\" \"assign\"        \"qr\"            \"df.residual\"  \n",
      " [9] \"xlevels\"       \"call\"          \"terms\"         \"model\"        \n",
      "\n"
     ]
    }
   ],
   "source": [
    "print pymodel.names"
   ]
  },
  {
   "cell_type": "code",
   "execution_count": 129,
   "metadata": {
    "slideshow": {
     "slide_type": "subslide"
    }
   },
   "outputs": [
    {
     "name": "stdout",
     "output_type": "stream",
     "text": [
      "-9.47390314347e-17\n"
     ]
    }
   ],
   "source": [
    "import numpy as np\n",
    "print np.mean(pymodel.rx2('residuals'))"
   ]
  },
  {
   "cell_type": "code",
   "execution_count": 130,
   "metadata": {
    "slideshow": {
     "slide_type": "subslide"
    }
   },
   "outputs": [
    {
     "name": "stdout",
     "output_type": "stream",
     "text": [
      "\n",
      "Call:\n",
      "lm(formula = Sepal_Length ~ Sepal_Width, data = df)\n",
      "\n",
      "Residuals:\n",
      "    Min      1Q  Median      3Q     Max \n",
      "-1.5546 -0.6397 -0.1106  0.5569  2.2125 \n",
      "\n",
      "Coefficients:\n",
      "            Estimate Std. Error t value Pr(>|t|)    \n",
      "(Intercept)   6.4812     0.4813  13.466   <2e-16 ***\n",
      "Sepal_Width  -0.2089     0.1560  -1.339    0.183    \n",
      "---\n",
      "Signif. codes:  0 ‘***’ 0.001 ‘**’ 0.01 ‘*’ 0.05 ‘.’ 0.1 ‘ ’ 1\n",
      "\n",
      "Residual standard error: 0.8259 on 148 degrees of freedom\n",
      "Multiple R-squared:  0.01196,\tAdjusted R-squared:  0.005286 \n",
      "F-statistic: 1.792 on 1 and 148 DF,  p-value: 0.1828\n",
      "\n",
      "\n"
     ]
    }
   ],
   "source": [
    "res = robjects.r('summary(m)')\n",
    "print res"
   ]
  },
  {
   "cell_type": "code",
   "execution_count": 131,
   "metadata": {
    "slideshow": {
     "slide_type": "subslide"
    }
   },
   "outputs": [
    {
     "name": "stdout",
     "output_type": "stream",
     "text": [
      " [1] \"call\"          \"terms\"         \"residuals\"     \"coefficients\" \n",
      " [5] \"aliased\"       \"sigma\"         \"df\"            \"r.squared\"    \n",
      " [9] \"adj.r.squared\" \"fstatistic\"    \"cov.unscaled\" \n",
      "\n"
     ]
    }
   ],
   "source": [
    "print res.names"
   ]
  },
  {
   "cell_type": "code",
   "execution_count": 132,
   "metadata": {
    "slideshow": {
     "slide_type": "fragment"
    }
   },
   "outputs": [
    {
     "name": "stdout",
     "output_type": "stream",
     "text": [
      "              Estimate Std. Error   t value     Pr(>|t|)\n",
      "(Intercept)  6.4812232  0.4812951 13.466214 1.726233e-27\n",
      "Sepal_Width -0.2088703  0.1560406 -1.338564 1.827652e-01\n",
      "\n"
     ]
    }
   ],
   "source": [
    "print res.rx2('coefficients')"
   ]
  },
  {
   "cell_type": "code",
   "execution_count": 133,
   "metadata": {
    "slideshow": {
     "slide_type": "fragment"
    }
   },
   "outputs": [
    {
     "name": "stdout",
     "output_type": "stream",
     "text": [
      "[1] 0.1827652\n",
      "\n"
     ]
    }
   ],
   "source": [
    "print res.rx2('coefficients').rx(2,4) # p value of slope"
   ]
  },
  {
   "cell_type": "code",
   "execution_count": 134,
   "metadata": {
    "slideshow": {
     "slide_type": "subslide"
    }
   },
   "outputs": [
    {
     "name": "stdout",
     "output_type": "stream",
     "text": [
      "[[  6.48122321e+00   4.81295118e-01   1.34662143e+01   1.72623298e-27]\n",
      " [ -2.08870294e-01   1.56040557e-01  -1.33856414e+00   1.82765215e-01]]\n"
     ]
    },
    {
     "data": {
      "text/plain": [
       "0.18276521527136932"
      ]
     },
     "execution_count": 134,
     "metadata": {},
     "output_type": "execute_result"
    }
   ],
   "source": [
    "print np.mat(res.rx2('coefficients'))\n",
    "np.mat(res.rx2('coefficients'))[1,3]"
   ]
  },
  {
   "cell_type": "markdown",
   "metadata": {
    "slideshow": {
     "slide_type": "slide"
    }
   },
   "source": [
    "## 在IPython Notebook里使用R"
   ]
  },
  {
   "cell_type": "markdown",
   "metadata": {
    "slideshow": {
     "slide_type": "fragment"
    }
   },
   "source": [
    "## 什么是IPython Notebook\n",
    "\n",
    "- IPython 是一个加强版的交互式 Shell\n",
    "- IPython Notebook是一个交互计算平台，也是一个记录计算过程的笔记本\n",
    "- 满足交互计算和批处理计算，同时能保存脚本文件以记录计算过程\n",
    "- 能兼容markdown等语法，满足可重复数据分析的需求，以及课程教学、博客写作\n",
    "- 能在本地的计算机上对远程服务器中的数据进行分析"
   ]
  },
  {
   "cell_type": "code",
   "execution_count": 135,
   "metadata": {
    "slideshow": {
     "slide_type": "subslide"
    }
   },
   "outputs": [
    {
     "data": {
      "image/png": "[encoded data removed]",
      "text/plain": [
       "<matplotlib.figure.Figure at 0x10d85ac50>"
      ]
     },
     "metadata": {},
     "output_type": "display_data"
    }
   ],
   "source": [
    "import numpy as np\n",
    "import matplotlib.pylab as plt\n",
    "from scipy import stats\n",
    "%matplotlib inline\n",
    "x = np.random.randn(300)\n",
    "density = stats.kde.gaussian_kde(x)\n",
    "plt.hist(x, 30, normed=1, alpha=0.5, facecolor='#377EB8')\n",
    "xd = np.linspace(min(x), max(x), 100)\n",
    "plt.plot(xd, density(xd), lw=2, alpha=0.2,color='r') #line\n",
    "plt.fill_between(xd, 0, density(xd), alpha=0.2, color='r')\n",
    "plt.show()"
   ]
  },
  {
   "cell_type": "markdown",
   "metadata": {
    "slideshow": {
     "slide_type": "subslide"
    }
   },
   "source": [
    "## 如何在notebook中使用R\n"
   ]
  },
  {
   "cell_type": "code",
   "execution_count": 136,
   "metadata": {
    "slideshow": {
     "slide_type": "fragment"
    }
   },
   "outputs": [
    {
     "name": "stdout",
     "output_type": "stream",
     "text": [
      "The rpy2.ipython extension is already loaded. To reload it, use:\n",
      "  %reload_ext rpy2.ipython\n"
     ]
    }
   ],
   "source": [
    "%load_ext rpy2.ipython"
   ]
  },
  {
   "cell_type": "code",
   "execution_count": 137,
   "metadata": {
    "slideshow": {
     "slide_type": "subslide"
    }
   },
   "outputs": [
    {
     "data": {
      "text/plain": [
       "              Estimate Std. Error   t value     Pr(>|t|)\n",
       "(Intercept)  6.4812232  0.4812951 13.466214 1.726233e-27\n",
       "Sepal_Width -0.2088703  0.1560406 -1.338564 1.827652e-01\n"
      ]
     },
     "metadata": {},
     "output_type": "display_data"
    }
   ],
   "source": [
    "%%R\n",
    "df = read.csv('iris.csv')\n",
    "m = lm(Sepal_Length~Sepal_Width, data = df)\n",
    "res = summary(m)\n",
    "res$coefficients"
   ]
  },
  {
   "cell_type": "code",
   "execution_count": 138,
   "metadata": {
    "slideshow": {
     "slide_type": "subslide"
    }
   },
   "outputs": [
    {
     "data": {
      "image/png": "[encoded data removed]"
     },
     "metadata": {},
     "output_type": "display_data"
    }
   ],
   "source": [
    "%%R -w 500 -h 300 \n",
    "# 画图\n",
    "x = rnorm(1000)\n",
    "hist(x,c='gray')"
   ]
  },
  {
   "cell_type": "markdown",
   "metadata": {
    "slideshow": {
     "slide_type": "subslide"
    }
   },
   "source": [
    "**一个cell中的R代码默认不会和python输入输出**"
   ]
  },
  {
   "cell_type": "code",
   "execution_count": 139,
   "metadata": {},
   "outputs": [],
   "source": [
    "%%R \n",
    "x = rnorm(100)"
   ]
  },
  {
   "cell_type": "code",
   "execution_count": 140,
   "metadata": {},
   "outputs": [
    {
     "data": {
      "text/plain": [
       "    Min.  1st Qu.   Median     Mean  3rd Qu.     Max. \n",
       "-1.99400 -0.81550 -0.24020 -0.09816  0.70310  2.88200 \n"
      ]
     },
     "metadata": {},
     "output_type": "display_data"
    }
   ],
   "source": [
    "%%R\n",
    "summary(x)"
   ]
  },
  {
   "cell_type": "markdown",
   "metadata": {
    "slideshow": {
     "slide_type": "subslide"
    }
   },
   "source": [
    "**和python交互需要使用-i -o**"
   ]
  },
  {
   "cell_type": "code",
   "execution_count": 141,
   "metadata": {},
   "outputs": [],
   "source": [
    "%%R -o x,y\n",
    "x = rnorm(100)\n",
    "y = rnorm(100)"
   ]
  },
  {
   "cell_type": "code",
   "execution_count": 144,
   "metadata": {
    "slideshow": {
     "slide_type": "subslide"
    }
   },
   "outputs": [
    {
     "data": {
      "image/png": "[encoded data removed]",
      "text/plain": [
       "<matplotlib.figure.Figure at 0x10d302950>"
      ]
     },
     "metadata": {},
     "output_type": "display_data"
    }
   ],
   "source": [
    "x = np.array(x)\n",
    "y = np.array(y)\n",
    "z = np.random.choice(['r','b'], size=100, replace=True)\n",
    "plt.show(plt.scatter(x,y,s=80,c=z ,alpha=0.7))"
   ]
  },
  {
   "cell_type": "code",
   "execution_count": 145,
   "metadata": {
    "slideshow": {
     "slide_type": "subslide"
    }
   },
   "outputs": [
    {
     "data": {
      "text/html": [
       "<div style=\"max-height:1000px;max-width:1500px;overflow:auto;\">\n",
       "<table border=\"1\" class=\"dataframe\">\n",
       "  <thead>\n",
       "    <tr style=\"text-align: right;\">\n",
       "      <th></th>\n",
       "      <th>x</th>\n",
       "      <th>y</th>\n",
       "      <th>z</th>\n",
       "    </tr>\n",
       "  </thead>\n",
       "  <tbody>\n",
       "    <tr>\n",
       "      <th>0</th>\n",
       "      <td>-0.824222</td>\n",
       "      <td>-2.173650</td>\n",
       "      <td> b</td>\n",
       "    </tr>\n",
       "    <tr>\n",
       "      <th>1</th>\n",
       "      <td>-1.929568</td>\n",
       "      <td>-0.550302</td>\n",
       "      <td> b</td>\n",
       "    </tr>\n",
       "    <tr>\n",
       "      <th>2</th>\n",
       "      <td>-0.915369</td>\n",
       "      <td>-2.179241</td>\n",
       "      <td> b</td>\n",
       "    </tr>\n",
       "    <tr>\n",
       "      <th>3</th>\n",
       "      <td> 1.699432</td>\n",
       "      <td> 0.732482</td>\n",
       "      <td> b</td>\n",
       "    </tr>\n",
       "    <tr>\n",
       "      <th>4</th>\n",
       "      <td>-0.215774</td>\n",
       "      <td>-0.523691</td>\n",
       "      <td> b</td>\n",
       "    </tr>\n",
       "  </tbody>\n",
       "</table>\n",
       "</div>"
      ],
      "text/plain": [
       "          x         y  z\n",
       "0 -0.824222 -2.173650  b\n",
       "1 -1.929568 -0.550302  b\n",
       "2 -0.915369 -2.179241  b\n",
       "3  1.699432  0.732482  b\n",
       "4 -0.215774 -0.523691  b"
      ]
     },
     "execution_count": 145,
     "metadata": {},
     "output_type": "execute_result"
    }
   ],
   "source": [
    "import pandas as pd\n",
    "df = pd.DataFrame({'x':x, 'y':y, 'z':z})\n",
    "df.head()"
   ]
  },
  {
   "cell_type": "code",
   "execution_count": 146,
   "metadata": {
    "slideshow": {
     "slide_type": "subslide"
    }
   },
   "outputs": [
    {
     "data": {
      "image/png": "[encoded data removed]"
     },
     "metadata": {},
     "output_type": "display_data"
    }
   ],
   "source": [
    "%%R -i df -w 500 -h 300 \n",
    "library(ggplot2)\n",
    "p = ggplot(df,aes(x = x, y = y, color = z)) + geom_point(size=4)\n",
    "print(p)"
   ]
  },
  {
   "cell_type": "markdown",
   "metadata": {
    "slideshow": {
     "slide_type": "subslide"
    }
   },
   "source": [
    "**同一个cell中混编python和R代码**"
   ]
  },
  {
   "cell_type": "code",
   "execution_count": 147,
   "metadata": {},
   "outputs": [
    {
     "data": {
      "text/plain": [
       "array([-17.58,   3.93])"
      ]
     },
     "execution_count": 147,
     "metadata": {},
     "output_type": "execute_result"
    }
   ],
   "source": [
    "%R -o coefs data(cars); model = lm(dist~speed, data=cars); coefs = model$coef \n",
    "coefs = np.array(coefs).round(2)\n",
    "coefs"
   ]
  },
  {
   "cell_type": "markdown",
   "metadata": {
    "slideshow": {
     "slide_type": "subslide"
    }
   },
   "source": [
    "**如何不需要%就可以使用notebook**\n",
    "\n",
    "- http://jupyter.org/ 可以解析R语言的notebook\n",
    "- http://blog.dominodatalab.com/r-notebooks/ 一种取巧的做法，仍是使用ipython notebook"
   ]
  },
  {
   "cell_type": "markdown",
   "metadata": {
    "slideshow": {
     "slide_type": "slide"
    }
   },
   "source": [
    "## 一个整合R和python的例子\n",
    "- python抓取网页，结合R的可视化"
   ]
  },
  {
   "cell_type": "code",
   "execution_count": 148,
   "metadata": {
    "slideshow": {
     "slide_type": "subslide"
    }
   },
   "outputs": [],
   "source": [
    "import requests\n",
    "from bs4 import BeautifulSoup\n",
    "import re\n",
    "url = \"http://movie.douban.com/top250\"\n",
    "r = requests.get(url)\n",
    "soup_packtpage = BeautifulSoup(r.text)"
   ]
  },
  {
   "cell_type": "code",
   "execution_count": 149,
   "metadata": {
    "slideshow": {
     "slide_type": "subslide"
    }
   },
   "outputs": [],
   "source": [
    "def namefunc(movie):\n",
    "    names = [x.findChild('span',attrs={'class':'title'}).string for x in movie]\n",
    "    return names\n",
    "def scorefunc(movie):\n",
    "    scores = [float(str(x.findChild('em').string)) for x in movie]\n",
    "    return scores\n",
    "def numfunc(movie):\n",
    "    num = [x.findChild('span',attrs=None).string for x in movie]\n",
    "    num = [int(str(re.sub('\\D', '', x))) for x in num]\n",
    "    return num\n",
    "url = \"http://movie.douban.com/top250\"\n",
    "def getinfo(url):\n",
    "    r = requests.get(url)\n",
    "    soup_packtpage = BeautifulSoup(r.text)\n",
    "    movie = soup_packtpage.findAll('div',attrs={'class':'info'})\n",
    "    names = namefunc(movie)\n",
    "    scores = scorefunc(movie)\n",
    "    num = numfunc(movie)\n",
    "    res = {'names': names, 'scores': scores, 'num': num}\n",
    "    return res"
   ]
  },
  {
   "cell_type": "code",
   "execution_count": 150,
   "metadata": {
    "slideshow": {
     "slide_type": "subslide"
    }
   },
   "outputs": [
    {
     "data": {
      "text/plain": [
       "['http://movie.douban.com/top250?start=0&filter=&type=',\n",
       " 'http://movie.douban.com/top250?start=25&filter=&type=',\n",
       " 'http://movie.douban.com/top250?start=50&filter=&type=',\n",
       " 'http://movie.douban.com/top250?start=75&filter=&type=',\n",
       " 'http://movie.douban.com/top250?start=100&filter=&type=',\n",
       " 'http://movie.douban.com/top250?start=125&filter=&type=',\n",
       " 'http://movie.douban.com/top250?start=150&filter=&type=',\n",
       " 'http://movie.douban.com/top250?start=175&filter=&type=',\n",
       " 'http://movie.douban.com/top250?start=200&filter=&type=',\n",
       " 'http://movie.douban.com/top250?start=225&filter=&type=']"
      ]
     },
     "execution_count": 150,
     "metadata": {},
     "output_type": "execute_result"
    }
   ],
   "source": [
    "urls = []\n",
    "index = range(0,250,25)\n",
    "for x in index:\n",
    "    urls.append('http://movie.douban.com/top250?start='+str(x)+'&filter=&type=')\n",
    "urls"
   ]
  },
  {
   "cell_type": "code",
   "execution_count": 151,
   "metadata": {
    "slideshow": {
     "slide_type": "subslide"
    }
   },
   "outputs": [],
   "source": [
    "res = {'names': [], 'scores': [], 'num': []}\n",
    "for url in urls:\n",
    "    new = getinfo(url)\n",
    "    res['names'].extend(new['names'])\n",
    "    res['scores'].extend(new['scores'])\n",
    "    res['num'].extend(new['num'])"
   ]
  },
  {
   "cell_type": "code",
   "execution_count": 158,
   "metadata": {
    "slideshow": {
     "slide_type": "subslide"
    }
   },
   "outputs": [
    {
     "data": {
      "text/html": [
       "<div style=\"max-height:1000px;max-width:1500px;overflow:auto;\">\n",
       "<table border=\"1\" class=\"dataframe\">\n",
       "  <thead>\n",
       "    <tr style=\"text-align: right;\">\n",
       "      <th></th>\n",
       "      <th>names</th>\n",
       "      <th>num</th>\n",
       "      <th>scores</th>\n",
       "    </tr>\n",
       "  </thead>\n",
       "  <tbody>\n",
       "    <tr>\n",
       "      <th>0</th>\n",
       "      <td>  肖申克的救赎</td>\n",
       "      <td> 573624</td>\n",
       "      <td> 9.6</td>\n",
       "    </tr>\n",
       "    <tr>\n",
       "      <th>1</th>\n",
       "      <td> 这个杀手不太冷</td>\n",
       "      <td> 543630</td>\n",
       "      <td> 9.4</td>\n",
       "    </tr>\n",
       "    <tr>\n",
       "      <th>2</th>\n",
       "      <td>    阿甘正传</td>\n",
       "      <td> 485031</td>\n",
       "      <td> 9.4</td>\n",
       "    </tr>\n",
       "    <tr>\n",
       "      <th>3</th>\n",
       "      <td>    霸王别姬</td>\n",
       "      <td> 389513</td>\n",
       "      <td> 9.4</td>\n",
       "    </tr>\n",
       "    <tr>\n",
       "      <th>4</th>\n",
       "      <td>    美丽人生</td>\n",
       "      <td> 265729</td>\n",
       "      <td> 9.4</td>\n",
       "    </tr>\n",
       "  </tbody>\n",
       "</table>\n",
       "</div>"
      ],
      "text/plain": [
       "     names     num  scores\n",
       "0   肖申克的救赎  573624     9.6\n",
       "1  这个杀手不太冷  543630     9.4\n",
       "2     阿甘正传  485031     9.4\n",
       "3     霸王别姬  389513     9.4\n",
       "4     美丽人生  265729     9.4"
      ]
     },
     "execution_count": 158,
     "metadata": {},
     "output_type": "execute_result"
    }
   ],
   "source": [
    "import pandas as pd\n",
    "df = pd.DataFrame(res)\n",
    "df.head()"
   ]
  },
  {
   "cell_type": "code",
   "execution_count": 153,
   "metadata": {
    "slideshow": {
     "slide_type": "subslide"
    }
   },
   "outputs": [
    {
     "data": {
      "text/plain": [
       "geom_smooth: method=\"auto\" and size of largest group is <1000, so using loess. Use 'method = x' to change the smoothing method.\n"
      ]
     },
     "metadata": {},
     "output_type": "display_data"
    },
    {
     "data": {
      "image/png": "[encoded data removed]"
     },
     "metadata": {},
     "output_type": "display_data"
    }
   ],
   "source": [
    "%%R -i df -w 500 -h 300 \n",
    "library(ggplot2)\n",
    "p = ggplot(df,aes(x = num, y = scores)) + geom_point(size=4,alpha=0.5) + stat_smooth()\n",
    "print(p)"
   ]
  },
  {
   "cell_type": "markdown",
   "metadata": {
    "slideshow": {
     "slide_type": "subslide"
    }
   },
   "source": [
    "**Thank You!**"
   ]
  },
  {
   "cell_type": "code",
   "execution_count": 159,
   "metadata": {
    "slideshow": {
     "slide_type": "skip"
    }
   },
   "outputs": [
    {
     "name": "stdout",
     "output_type": "stream",
     "text": [
      "[NbConvertApp] Using existing profile dir: u'/Users/xiaokai/.ipython/profile_default'\n",
      "[NbConvertApp] Converting notebook r_and_python.ipynb to slides\n",
      "[NbConvertApp] Support files will be in r_and_python_files/\n",
      "[NbConvertApp] Loaded template slides_reveal.tpl\n",
      "/Users/xiaokai/anaconda/lib/python2.7/site-packages/IPython/nbconvert/filters/markdown.py:78: UserWarning: Node.js 0.9.12 or later wasn't found.\n",
      "Nbconvert will try to use Pandoc instead.\n",
      "  \"Nbconvert will try to use Pandoc instead.\")\n",
      "[NbConvertApp] Writing 392322 bytes to r_and_python.slides.html\n",
      "[NbConvertApp] Redirecting reveal.js requests to https://cdn.jsdelivr.net/reveal.js/2.5.0\n",
      "Serving your slides at http://127.0.0.1:8000/r_and_python.slides.html\n",
      "Use Control-C to stop this server\n",
      "WARNING:tornado.access:404 GET /custom.css (127.0.0.1) 0.84ms\n",
      "^C\n",
      "Interrupted\n",
      "\n"
     ]
    }
   ],
   "source": [
    "!ipython nbconvert r_and_python.ipynb --to slides --post serve"
   ]
  }
 ],
 "metadata": {
  "celltoolbar": "Slideshow",
  "kernelspec": {
   "display_name": "Python 3",
   "language": "python",
   "name": "python3"
  },
  "language_info": {
   "codemirror_mode": {
    "name": "ipython",
    "version": 3
   },
   "file_extension": ".py",
   "mimetype": "text/x-python",
   "name": "python",
   "nbconvert_exporter": "python",
   "pygments_lexer": "ipython3",
   "version": "3.7.6"
  }
 },
 "nbformat": 4,
 "nbformat_minor": 1
}
