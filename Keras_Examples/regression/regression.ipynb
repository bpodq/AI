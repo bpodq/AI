{
 "cells": [
  {
   "cell_type": "markdown",
   "metadata": {},
   "source": [
    "# 1. 问题陈述\n",
    "在线性回归问题中，你可以得到很多的数据点，然后你需要使用一条直线去拟合这些离散点。在这个例子中，我们创建了100个离散点，然后用一条直线去拟合它们。"
   ]
  },
  {
   "cell_type": "markdown",
   "metadata": {},
   "source": [
    "# 2. 创建训练数据\n",
    "TrainX 的数据范围是 -1 到 1，TrainY 与 TrainX 的关系是3倍，并且我们加入了一些噪声点。"
   ]
  },
  {
   "cell_type": "code",
   "execution_count": 1,
   "metadata": {},
   "outputs": [
    {
     "name": "stderr",
     "output_type": "stream",
     "text": [
      "Using TensorFlow backend.\n"
     ]
    }
   ],
   "source": [
    "import keras\n",
    "from keras.models import Sequential\n",
    "from keras.layers import Dense\n",
    "import numpy as np\n",
    "import matplotlib.pyplot as plt\n",
    "import os\n",
    "\n",
    "w = 3\n",
    "b = 1.25\n",
    "sigma = 0.5\n",
    "trX = np.linspace(-1, 1, 101)\n",
    "trY = w*trX + b + np.random.randn(*trX.shape) * sigma"
   ]
  },
  {
   "cell_type": "code",
   "execution_count": 2,
   "metadata": {},
   "outputs": [
    {
     "data": {
      "text/plain": [
       "[<matplotlib.lines.Line2D at 0x21dbe45f948>]"
      ]
     },
     "execution_count": 2,
     "metadata": {},
     "output_type": "execute_result"
    },
    {
     "data": {
      "image/png": "[encoded data removed]",
      "text/plain": [
       "<Figure size 432x288 with 1 Axes>"
      ]
     },
     "metadata": {
      "needs_background": "light"
     },
     "output_type": "display_data"
    }
   ],
   "source": [
    "plt.plot(trX, trY, '.')"
   ]
  },
  {
   "cell_type": "markdown",
   "metadata": {},
   "source": [
    "# 3. 构建模型\n",
    "首先我们需要构建一个序列模型。我们需要的只是一个简单的链接，因此我们只需要使用一个 Dense 层就够了，然后用线性函数进行激活。"
   ]
  },
  {
   "cell_type": "code",
   "execution_count": 3,
   "metadata": {},
   "outputs": [],
   "source": [
    "model = Sequential()\n",
    "# model.add(Dense(input_dim=1, output_dim=1, init='uniform', activation='linear'))\n",
    "model.add(Dense(input_dim=1, units=1, kernel_initializer='uniform', activation='linear'))"
   ]
  },
  {
   "cell_type": "markdown",
   "metadata": {},
   "source": [
    "下面的代码将设置输入数据 x，权重 w 和偏置项 b。然我们来看看具体的初始化工作。如下："
   ]
  },
  {
   "cell_type": "code",
   "execution_count": 16,
   "metadata": {},
   "outputs": [
    {
     "name": "stdout",
     "output_type": "stream",
     "text": [
      "Linear regression model is initialized with weights w: 1.95, b: 1.10\n"
     ]
    }
   ],
   "source": [
    "if os.path.exists('my_model_weights.h5'):\n",
    "    model.load_weights('my_model_weights.h5')\n",
    "else:\n",
    "    weights = model.layers[0].get_weights()\n",
    "\n",
    "w_init = weights[0][0][0]\n",
    "b_init = weights[1][0]\n",
    "print('Linear regression model is initialized with weights w: %.2f, b: %.2f' % (w_init, b_init)) \n",
    "## Linear regression model is initialized with weight w: -0.03, b: 0.00"
   ]
  },
  {
   "cell_type": "markdown",
   "metadata": {},
   "source": [
    "现在，我们可以l利用自己构造的数据 trX 和 trY 来训练这个线性模型，其中 trY 是 trX 的3倍。因此，权重 w 的值应该是 3。我们使用简单的梯度下降来作为优化器，均方误差（MSE）作为损失值。如下："
   ]
  },
  {
   "cell_type": "code",
   "execution_count": 17,
   "metadata": {},
   "outputs": [],
   "source": [
    "model.compile(optimizer='sgd', loss='mse')"
   ]
  },
  {
   "cell_type": "markdown",
   "metadata": {},
   "source": [
    "最后，我们使用 fit 函数来输入数据。"
   ]
  },
  {
   "cell_type": "code",
   "execution_count": 18,
   "metadata": {},
   "outputs": [
    {
     "name": "stdout",
     "output_type": "stream",
     "text": [
      "Epoch 1/20\n",
      "101/101 [==============================] - 0s 355us/step - loss: 0.5725\n",
      "Epoch 2/20\n",
      "101/101 [==============================] - 0s 89us/step - loss: 0.5520\n",
      "Epoch 3/20\n",
      "101/101 [==============================] - 0s 79us/step - loss: 0.5304\n",
      "Epoch 4/20\n",
      "101/101 [==============================] - 0s 109us/step - loss: 0.5148\n",
      "Epoch 5/20\n",
      "101/101 [==============================] - 0s 89us/step - loss: 0.4987\n",
      "Epoch 6/20\n",
      "101/101 [==============================] - 0s 89us/step - loss: 0.4854\n",
      "Epoch 7/20\n",
      "101/101 [==============================] - 0s 109us/step - loss: 0.4705\n",
      "Epoch 8/20\n",
      "101/101 [==============================] - 0s 99us/step - loss: 0.4577\n",
      "Epoch 9/20\n",
      "101/101 [==============================] - 0s 89us/step - loss: 0.4454\n",
      "Epoch 10/20\n",
      "101/101 [==============================] - 0s 89us/step - loss: 0.4328\n",
      "Epoch 11/20\n",
      "101/101 [==============================] - 0s 89us/step - loss: 0.4185\n",
      "Epoch 12/20\n",
      "101/101 [==============================] - 0s 89us/step - loss: 0.4083\n",
      "Epoch 13/20\n",
      "101/101 [==============================] - 0s 69us/step - loss: 0.3999\n",
      "Epoch 14/20\n",
      "101/101 [==============================] - 0s 69us/step - loss: 0.3915\n",
      "Epoch 15/20\n",
      "101/101 [==============================] - 0s 69us/step - loss: 0.3822\n",
      "Epoch 16/20\n",
      "101/101 [==============================] - 0s 79us/step - loss: 0.3715\n",
      "Epoch 17/20\n",
      "101/101 [==============================] - 0s 79us/step - loss: 0.3636\n",
      "Epoch 18/20\n",
      "101/101 [==============================] - 0s 89us/step - loss: 0.3559\n",
      "Epoch 19/20\n",
      "101/101 [==============================] - 0s 69us/step - loss: 0.3483\n",
      "Epoch 20/20\n",
      "101/101 [==============================] - 0s 79us/step - loss: 0.3419\n"
     ]
    },
    {
     "data": {
      "text/plain": [
       "<keras.callbacks.callbacks.History at 0x21dbe4e4648>"
      ]
     },
     "execution_count": 18,
     "metadata": {},
     "output_type": "execute_result"
    }
   ],
   "source": [
    "model.fit(trX, trY, epochs=20, verbose=1)"
   ]
  },
  {
   "cell_type": "markdown",
   "metadata": {},
   "source": [
    "注：与线性回归进行对比，可以看出线性回归的优点：有显式公式，不用训练。"
   ]
  },
  {
   "cell_type": "markdown",
   "metadata": {},
   "source": [
    "在经过训练之后，我们再次打印权重："
   ]
  },
  {
   "cell_type": "code",
   "execution_count": 19,
   "metadata": {},
   "outputs": [
    {
     "name": "stdout",
     "output_type": "stream",
     "text": [
      "Linear regression model is trained to have weight w: 2.38, b: 1.14\n"
     ]
    }
   ],
   "source": [
    "weights = model.layers[0].get_weights()\n",
    "w_final = weights[0][0][0]\n",
    "b_final = weights[1][0]\n",
    "print('Linear regression model is trained to have weight w: %.2f, b: %.2f' % (w_final, b_final))\n",
    "##Linear regression model is trained to have weight w: 2.94, b: 0.08"
   ]
  },
  {
   "cell_type": "markdown",
   "metadata": {},
   "source": [
    "正如你所看到的，在运行 200 轮之后，现在权重非常接近于 3。你可以将运行的轮数修改为区间 [100, 300] 之间，然后观察输出结构有什么变化。现在，你已经学会了利用很少的代码来构建一个线性回归模型，如果要构建一个相同的模型，在 TensorFlow 中需要用到更多的代码。"
   ]
  },
  {
   "cell_type": "code",
   "execution_count": 20,
   "metadata": {},
   "outputs": [],
   "source": [
    "model.save_weights(\"my_model_weights.h5\")"
   ]
  },
  {
   "cell_type": "code",
   "execution_count": null,
   "metadata": {},
   "outputs": [],
   "source": []
  }
 ],
 "metadata": {
  "kernelspec": {
   "display_name": "Python 3",
   "language": "python",
   "name": "python3"
  },
  "language_info": {
   "codemirror_mode": {
    "name": "ipython",
    "version": 3
   },
   "file_extension": ".py",
   "mimetype": "text/x-python",
   "name": "python",
   "nbconvert_exporter": "python",
   "pygments_lexer": "ipython3",
   "version": "3.7.6"
  }
 },
 "nbformat": 4,
 "nbformat_minor": 4
}
